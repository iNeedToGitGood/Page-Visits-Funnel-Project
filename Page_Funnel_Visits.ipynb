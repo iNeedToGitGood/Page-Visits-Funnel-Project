{
 "cells": [
  {
   "cell_type": "code",
   "execution_count": 1,
   "metadata": {},
   "outputs": [],
   "source": [
    "import pandas as pd"
   ]
  },
  {
   "cell_type": "markdown",
   "metadata": {},
   "source": [
    "Import all the files"
   ]
  },
  {
   "cell_type": "code",
   "execution_count": 2,
   "metadata": {},
   "outputs": [],
   "source": [
    "visits = pd.read_csv('visits.csv',\n",
    "                     parse_dates=[1])\n",
    "cart = pd.read_csv('cart.csv',\n",
    "                   parse_dates=[1])\n",
    "                   \n",
    "checkout = pd.read_csv('checkout.csv',\n",
    "                       parse_dates=[1])\n",
    "purchase = pd.read_csv('purchase.csv',\n",
    "                       parse_dates=[1])"
   ]
  },
  {
   "cell_type": "markdown",
   "metadata": {},
   "source": [
    "Step 1: Inspect the DataFrames using `print` and `head`"
   ]
  },
  {
   "cell_type": "code",
   "execution_count": 3,
   "metadata": {},
   "outputs": [
    {
     "name": "stdout",
     "output_type": "stream",
     "text": [
      "                                user_id          visit_time\n",
      "0  943647ef-3682-4750-a2e1-918ba6f16188 2017-04-07 15:14:00\n",
      "1  0c3a3dd0-fb64-4eac-bf84-ba069ce409f2 2017-01-26 14:24:00\n",
      "2  6e0b2d60-4027-4d9a-babd-0e7d40859fb1 2017-08-20 08:23:00\n",
      "3  6879527e-c5a6-4d14-b2da-50b85212b0ab 2017-11-04 18:15:00\n",
      "4  a84327ff-5daa-4ba1-b789-d5b4caf81e96 2017-02-27 11:25:00\n",
      "                                  user_id           cart_time\n",
      "343  952be3a5-9240-484f-845c-a6b2cbed72ee 2017-05-02 05:40:00\n",
      "344  59d2b685-383a-4fce-a325-35d985713a8b 2017-01-20 03:58:00\n",
      "345  a1203970-92ae-4fc7-843e-e1740c1be9d5 2017-11-12 23:07:00\n",
      "346  55de53ae-89f6-43ff-a26d-df284678aca1 2017-03-17 19:56:00\n",
      "347  0ea4cc68-dae4-4e35-b3e0-f0889932e1b5 2017-05-12 08:53:00\n",
      "                                  user_id       checkout_time\n",
      "221  55de53ae-89f6-43ff-a26d-df284678aca1 2017-03-17 20:04:00\n",
      "222  58545be1-0a55-4d26-b584-df26e258d0ed 2017-07-20 01:35:00\n",
      "223  c62fdf2f-3b30-4624-8463-d3961e687997 2017-11-21 22:58:00\n",
      "224  f3dd7631-3cf6-4d49-9c6e-b48eda4432b5 2017-01-04 10:20:00\n",
      "225  ba011b1d-6cc5-4147-ae8a-1722a1f5c27c 2017-10-24 08:32:00\n",
      "                                  user_id       purchase_time\n",
      "247  278c0f3c-d092-4e7f-b97b-97cc9d57c1c2 2017-01-05 02:45:00\n",
      "248  952be3a5-9240-484f-845c-a6b2cbed72ee 2017-05-02 06:10:00\n",
      "249  27e5a297-332d-4e8b-8e2a-b97ae8c5b6f9 2017-09-04 17:39:00\n",
      "250  4b04c692-d814-45bd-854a-000e0ef4e92a 2017-06-20 17:28:00\n",
      "251  c62fdf2f-3b30-4624-8463-d3961e687997 2017-11-21 23:00:00\n"
     ]
    }
   ],
   "source": [
    "print(visits.head())\n",
    "print(cart.tail())\n",
    "print(checkout.tail())\n",
    "print(purchase.tail())"
   ]
  },
  {
   "cell_type": "markdown",
   "metadata": {},
   "source": [
    "Step 2: Left merging visits and cart"
   ]
  },
  {
   "cell_type": "code",
   "execution_count": 4,
   "metadata": {},
   "outputs": [],
   "source": [
    "visitsAndCart = pd.merge(visits, cart, how='left')"
   ]
  },
  {
   "cell_type": "markdown",
   "metadata": {},
   "source": [
    "Step 3: How long is `visits_cart`?"
   ]
  },
  {
   "cell_type": "code",
   "execution_count": 5,
   "metadata": {},
   "outputs": [
    {
     "name": "stdout",
     "output_type": "stream",
     "text": [
      "2000\n",
      "                                   user_id          visit_time cart_time\n",
      "1995  33913ac2-03da-45ae-8fc3-fea39df827c6 2017-03-25 03:29:00       NaT\n",
      "1996  4f850132-b99d-4623-80e6-6e61d003577e 2017-01-08 09:57:00       NaT\n",
      "1997  f0830b9b-1f5c-4e74-b63d-3f847cc6ce70 2017-09-07 12:56:00       NaT\n",
      "1998  b01bffa7-63ba-4cd3-9d93-eb1477c23831 2017-07-20 04:37:00       NaT\n",
      "1999  0336ca81-8d68-443f-9248-ac0b8ad147d5 2017-11-15 10:11:00       NaT\n"
     ]
    }
   ],
   "source": [
    "visits = len(visitsAndCart)\n",
    "print(visits)\n",
    "print(visitsAndCart.tail())"
   ]
  },
  {
   "cell_type": "markdown",
   "metadata": {},
   "source": [
    "Step 4: How many timestamps are null for `cart_time`?"
   ]
  },
  {
   "cell_type": "code",
   "execution_count": 6,
   "metadata": {},
   "outputs": [
    {
     "data": {
      "text/plain": [
       "1652"
      ]
     },
     "execution_count": 6,
     "metadata": {},
     "output_type": "execute_result"
    }
   ],
   "source": [
    "nullCartCount = len(visitsAndCart[visitsAndCart.cart_time.isnull()])\n",
    "nullCartCount"
   ]
  },
  {
   "cell_type": "markdown",
   "metadata": {},
   "source": [
    "Step 5: What percentage only visited?"
   ]
  },
  {
   "cell_type": "code",
   "execution_count": 7,
   "metadata": {},
   "outputs": [
    {
     "data": {
      "text/plain": [
       "82.6"
      ]
     },
     "execution_count": 7,
     "metadata": {},
     "output_type": "execute_result"
    }
   ],
   "source": [
    "visitNoCart = (nullCartCount / visits) * 100\n",
    "visitNoCart"
   ]
  },
  {
   "cell_type": "markdown",
   "metadata": {},
   "source": [
    "Step 6: What percentage placed a t-shirt in their cart but did not checkout?"
   ]
  },
  {
   "cell_type": "code",
   "execution_count": 8,
   "metadata": {},
   "outputs": [
    {
     "data": {
      "text/plain": [
       "35.06"
      ]
     },
     "execution_count": 8,
     "metadata": {},
     "output_type": "execute_result"
    }
   ],
   "source": [
    "lenCart = len(cart)\n",
    "lenCheckout = len(checkout)\n",
    "noCheckout = round(((lenCart - lenCheckout) / lenCart) * 100, 2)\n",
    "noCheckout"
   ]
  },
  {
   "cell_type": "markdown",
   "metadata": {},
   "source": [
    "Step 7: Merge it all together"
   ]
  },
  {
   "cell_type": "code",
   "execution_count": 9,
   "metadata": {},
   "outputs": [
    {
     "data": {
      "text/html": [
       "<div>\n",
       "<style scoped>\n",
       "    .dataframe tbody tr th:only-of-type {\n",
       "        vertical-align: middle;\n",
       "    }\n",
       "\n",
       "    .dataframe tbody tr th {\n",
       "        vertical-align: top;\n",
       "    }\n",
       "\n",
       "    .dataframe thead th {\n",
       "        text-align: right;\n",
       "    }\n",
       "</style>\n",
       "<table border=\"1\" class=\"dataframe\">\n",
       "  <thead>\n",
       "    <tr style=\"text-align: right;\">\n",
       "      <th></th>\n",
       "      <th>user_id</th>\n",
       "      <th>visit_time</th>\n",
       "      <th>cart_time</th>\n",
       "      <th>checkout_time</th>\n",
       "      <th>purchase_time</th>\n",
       "    </tr>\n",
       "  </thead>\n",
       "  <tbody>\n",
       "    <tr>\n",
       "      <th>0</th>\n",
       "      <td>943647ef-3682-4750-a2e1-918ba6f16188</td>\n",
       "      <td>2017-04-07 15:14:00</td>\n",
       "      <td>NaT</td>\n",
       "      <td>NaT</td>\n",
       "      <td>NaT</td>\n",
       "    </tr>\n",
       "    <tr>\n",
       "      <th>1</th>\n",
       "      <td>0c3a3dd0-fb64-4eac-bf84-ba069ce409f2</td>\n",
       "      <td>2017-01-26 14:24:00</td>\n",
       "      <td>2017-01-26 14:44:00</td>\n",
       "      <td>2017-01-26 14:54:00</td>\n",
       "      <td>2017-01-26 15:08:00</td>\n",
       "    </tr>\n",
       "    <tr>\n",
       "      <th>2</th>\n",
       "      <td>6e0b2d60-4027-4d9a-babd-0e7d40859fb1</td>\n",
       "      <td>2017-08-20 08:23:00</td>\n",
       "      <td>2017-08-20 08:31:00</td>\n",
       "      <td>NaT</td>\n",
       "      <td>NaT</td>\n",
       "    </tr>\n",
       "    <tr>\n",
       "      <th>3</th>\n",
       "      <td>6879527e-c5a6-4d14-b2da-50b85212b0ab</td>\n",
       "      <td>2017-11-04 18:15:00</td>\n",
       "      <td>NaT</td>\n",
       "      <td>NaT</td>\n",
       "      <td>NaT</td>\n",
       "    </tr>\n",
       "    <tr>\n",
       "      <th>4</th>\n",
       "      <td>a84327ff-5daa-4ba1-b789-d5b4caf81e96</td>\n",
       "      <td>2017-02-27 11:25:00</td>\n",
       "      <td>NaT</td>\n",
       "      <td>NaT</td>\n",
       "      <td>NaT</td>\n",
       "    </tr>\n",
       "    <tr>\n",
       "      <th>...</th>\n",
       "      <td>...</td>\n",
       "      <td>...</td>\n",
       "      <td>...</td>\n",
       "      <td>...</td>\n",
       "      <td>...</td>\n",
       "    </tr>\n",
       "    <tr>\n",
       "      <th>2103</th>\n",
       "      <td>33913ac2-03da-45ae-8fc3-fea39df827c6</td>\n",
       "      <td>2017-03-25 03:29:00</td>\n",
       "      <td>NaT</td>\n",
       "      <td>NaT</td>\n",
       "      <td>NaT</td>\n",
       "    </tr>\n",
       "    <tr>\n",
       "      <th>2104</th>\n",
       "      <td>4f850132-b99d-4623-80e6-6e61d003577e</td>\n",
       "      <td>2017-01-08 09:57:00</td>\n",
       "      <td>NaT</td>\n",
       "      <td>NaT</td>\n",
       "      <td>NaT</td>\n",
       "    </tr>\n",
       "    <tr>\n",
       "      <th>2105</th>\n",
       "      <td>f0830b9b-1f5c-4e74-b63d-3f847cc6ce70</td>\n",
       "      <td>2017-09-07 12:56:00</td>\n",
       "      <td>NaT</td>\n",
       "      <td>NaT</td>\n",
       "      <td>NaT</td>\n",
       "    </tr>\n",
       "    <tr>\n",
       "      <th>2106</th>\n",
       "      <td>b01bffa7-63ba-4cd3-9d93-eb1477c23831</td>\n",
       "      <td>2017-07-20 04:37:00</td>\n",
       "      <td>NaT</td>\n",
       "      <td>NaT</td>\n",
       "      <td>NaT</td>\n",
       "    </tr>\n",
       "    <tr>\n",
       "      <th>2107</th>\n",
       "      <td>0336ca81-8d68-443f-9248-ac0b8ad147d5</td>\n",
       "      <td>2017-11-15 10:11:00</td>\n",
       "      <td>NaT</td>\n",
       "      <td>NaT</td>\n",
       "      <td>NaT</td>\n",
       "    </tr>\n",
       "  </tbody>\n",
       "</table>\n",
       "<p>2108 rows × 5 columns</p>\n",
       "</div>"
      ],
      "text/plain": [
       "                                   user_id          visit_time  \\\n",
       "0     943647ef-3682-4750-a2e1-918ba6f16188 2017-04-07 15:14:00   \n",
       "1     0c3a3dd0-fb64-4eac-bf84-ba069ce409f2 2017-01-26 14:24:00   \n",
       "2     6e0b2d60-4027-4d9a-babd-0e7d40859fb1 2017-08-20 08:23:00   \n",
       "3     6879527e-c5a6-4d14-b2da-50b85212b0ab 2017-11-04 18:15:00   \n",
       "4     a84327ff-5daa-4ba1-b789-d5b4caf81e96 2017-02-27 11:25:00   \n",
       "...                                    ...                 ...   \n",
       "2103  33913ac2-03da-45ae-8fc3-fea39df827c6 2017-03-25 03:29:00   \n",
       "2104  4f850132-b99d-4623-80e6-6e61d003577e 2017-01-08 09:57:00   \n",
       "2105  f0830b9b-1f5c-4e74-b63d-3f847cc6ce70 2017-09-07 12:56:00   \n",
       "2106  b01bffa7-63ba-4cd3-9d93-eb1477c23831 2017-07-20 04:37:00   \n",
       "2107  0336ca81-8d68-443f-9248-ac0b8ad147d5 2017-11-15 10:11:00   \n",
       "\n",
       "               cart_time       checkout_time       purchase_time  \n",
       "0                    NaT                 NaT                 NaT  \n",
       "1    2017-01-26 14:44:00 2017-01-26 14:54:00 2017-01-26 15:08:00  \n",
       "2    2017-08-20 08:31:00                 NaT                 NaT  \n",
       "3                    NaT                 NaT                 NaT  \n",
       "4                    NaT                 NaT                 NaT  \n",
       "...                  ...                 ...                 ...  \n",
       "2103                 NaT                 NaT                 NaT  \n",
       "2104                 NaT                 NaT                 NaT  \n",
       "2105                 NaT                 NaT                 NaT  \n",
       "2106                 NaT                 NaT                 NaT  \n",
       "2107                 NaT                 NaT                 NaT  \n",
       "\n",
       "[2108 rows x 5 columns]"
      ]
     },
     "execution_count": 9,
     "metadata": {},
     "output_type": "execute_result"
    }
   ],
   "source": [
    "# How do you want it merged? I guess I'll do a left merge so all the rows persist.\n",
    "allData = visitsAndCart.merge(checkout, how='left').merge(purchase, how='left')\n",
    "allData"
   ]
  },
  {
   "cell_type": "markdown",
   "metadata": {},
   "source": [
    "Step 8: % of users who got to checkout but did not purchase"
   ]
  },
  {
   "cell_type": "code",
   "execution_count": 10,
   "metadata": {},
   "outputs": [
    {
     "data": {
      "text/plain": [
       "24.55"
      ]
     },
     "execution_count": 10,
     "metadata": {},
     "output_type": "execute_result"
    }
   ],
   "source": [
    "checkedOut = allData[~allData.checkout_time.isnull()]\n",
    "checkoutNoPurchase = allData[(~allData.checkout_time.isnull()) & (allData.purchase_time.isnull())]\n",
    "checkoutNoPurchasePercent = round((len(checkoutNoPurchase) / len(checkedOut)) * 100, 2)\n",
    "checkoutNoPurchasePercent"
   ]
  },
  {
   "cell_type": "markdown",
   "metadata": {},
   "source": [
    "Step 9: check each part of the funnel, let's print all 3 of them again"
   ]
  },
  {
   "cell_type": "code",
   "execution_count": 11,
   "metadata": {},
   "outputs": [
    {
     "name": "stdout",
     "output_type": "stream",
     "text": [
      "82.6% of visitors did not add an item to their cart\n",
      "35.06% of visitors that added an item to their cart did not go to checkout\n",
      "24.55% of visitors that went to checkout did not complete the purchase\n"
     ]
    }
   ],
   "source": [
    "print(str(visitNoCart) + \"% of visitors did not add an item to their cart\")\n",
    "print(str(noCheckout) + \"% of visitors that added an item to their cart did not go to checkout\")\n",
    "print(str(checkoutNoPurchasePercent) + \"% of visitors that went to checkout did not complete the purchase\")"
   ]
  },
  {
   "cell_type": "markdown",
   "metadata": {},
   "source": [
    "*The weakest part of the funnel is clearly getting a person who visited the site to add a tshirt to their cart. Once they've added a t-shirt to their cart it is fairly likely they end up purchasing it. A suggestion could be to make the add-to-cart button more prominent on the front page.*\n",
    "\n",
    "\n",
    "Step 10: adding new column"
   ]
  },
  {
   "cell_type": "code",
   "execution_count": 12,
   "metadata": {},
   "outputs": [],
   "source": [
    "# Would be nice to have a suggestion of what to add... looking at the codecademy.com version of this project, they suggest\n",
    "# calculating the average time from initial visit to final purchase\n",
    "allData['visitTime'] = allData.purchase_time - allData.visit_time"
   ]
  },
  {
   "cell_type": "markdown",
   "metadata": {},
   "source": [
    "Step 11: examine the results"
   ]
  },
  {
   "cell_type": "code",
   "execution_count": 13,
   "metadata": {},
   "outputs": [
    {
     "name": "stdout",
     "output_type": "stream",
     "text": [
      "0                  NaT\n",
      "1      0 days 00:44:00\n",
      "2                  NaT\n",
      "3                  NaT\n",
      "4                  NaT\n",
      "             ...      \n",
      "2103               NaT\n",
      "2104               NaT\n",
      "2105               NaT\n",
      "2106               NaT\n",
      "2107               NaT\n",
      "Name: visitTime, Length: 2108, dtype: timedelta64[ns]\n"
     ]
    }
   ],
   "source": [
    "print(allData.visitTime)"
   ]
  },
  {
   "cell_type": "markdown",
   "metadata": {},
   "source": [
    "Step 12: average time to purchase"
   ]
  },
  {
   "cell_type": "code",
   "execution_count": 14,
   "metadata": {},
   "outputs": [
    {
     "name": "stdout",
     "output_type": "stream",
     "text": [
      "0 days 00:43:12.380952380\n"
     ]
    }
   ],
   "source": [
    "print(allData.visitTime.mean())"
   ]
  },
  {
   "cell_type": "code",
   "execution_count": 15,
   "metadata": {},
   "outputs": [],
   "source": [
    "# What is this line for??? The solution file also has it empty and the last step on the website is the one above...\n",
    "# Thanks for looking!"
   ]
  }
 ],
 "metadata": {
  "kernelspec": {
   "display_name": "Python 3 (ipykernel)",
   "language": "python",
   "name": "python3"
  },
  "language_info": {
   "codemirror_mode": {
    "name": "ipython",
    "version": 3
   },
   "file_extension": ".py",
   "mimetype": "text/x-python",
   "name": "python",
   "nbconvert_exporter": "python",
   "pygments_lexer": "ipython3",
   "version": "3.7.13"
  }
 },
 "nbformat": 4,
 "nbformat_minor": 4
}
